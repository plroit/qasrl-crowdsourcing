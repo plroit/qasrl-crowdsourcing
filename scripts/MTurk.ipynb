{
 "cells": [
  {
   "cell_type": "code",
   "execution_count": null,
   "metadata": {},
   "outputs": [],
   "source": [
    "import boto3\n",
    "import pandas as pd\n",
    "from logging import log, CRITICAL, ERROR, INFO, DEBUG, WARN\n",
    "from datetime import datetime, timedelta"
   ]
  },
  {
   "cell_type": "markdown",
   "metadata": {},
   "source": [
    "### Setup Environment\n",
    "* Verify that you have set AWS credentials in your user data\n",
    "* Location: ~/.aws/credentials\n",
    "* Verify you are in correct sandbox / production setting\n",
    "\n",
    "Format: \n",
    "\n",
    "[default]  \n",
    "aws_access_key_id=XXXXXXX  \n",
    "aws_secret_access_key=XXXXX\n"
   ]
  },
  {
   "cell_type": "code",
   "execution_count": null,
   "metadata": {},
   "outputs": [],
   "source": [
    "def check_response(resp):\n",
    "    status = resp['ResponseMetadata']['HTTPStatusCode']\n",
    "    if status != 200:\n",
    "        log(ERROR, resp)  \n",
    "\n",
    "SANDBOX = True\n",
    "if SANDBOX:\n",
    "    sandbox_ep = 'https://mturk-requester-sandbox.us-east-1.amazonaws.com'\n",
    "    mturk = boto3.client('mturk', region_name = 'us-east-1', endpoint_url = sandbox_ep)\n",
    "else:\n",
    "    mturk = boto3.client('mturk', region_name = 'us-east-1')\n",
    "\n",
    "def get_balance():\n",
    "    resp = mturk.get_account_balance()\n",
    "    check_response(resp)\n",
    "    balance = resp['AvailableBalance']\n",
    "    return balance\n",
    "    \n",
    "def print_env():\n",
    "    print(\"Available Balance: \", get_balance())\n",
    "    if SANDBOX:\n",
    "        print(\"SANDBOX Environment\")\n",
    "    else:\n",
    "        log(WARN, \"PRODUCTION Environment\")\n",
    "        \n",
    "        "
   ]
  },
  {
   "cell_type": "code",
   "execution_count": null,
   "metadata": {},
   "outputs": [],
   "source": [
    "print_env()"
   ]
  },
  {
   "cell_type": "markdown",
   "metadata": {},
   "source": [
    "### Worker Qualifications\n",
    "\n",
    "https://requestersandbox.mturk.com/qualification_types\n",
    "\n",
    "Searh these strings:   \n",
    "* Training and Qualification Phase\n",
    "* Production Phase\n",
    "\n",
    "* Sandbox:   \n",
    "* * Training: ...  \n",
    "* * Live: ...\n",
    "\n",
    "#### Accuracy and Coverage Qualifications\n",
    "* Sandbox:\n",
    "* * Coverage: ...  \n",
    "* * Accuracy: ...\n",
    "\n",
    "* Production\n",
    "* * Coverage: ...\n",
    "* * Accuracy: ...\n"
   ]
  },
  {
   "cell_type": "code",
   "execution_count": null,
   "metadata": {},
   "outputs": [],
   "source": [
    "res = mturk.list_workers_with_qualification_type(QualificationTypeId=\"...\")\n",
    "for rec in res['Qualifications']:\n",
    "    print(rec['WorkerId'], rec[\"GrantTime\"])"
   ]
  },
  {
   "cell_type": "code",
   "execution_count": null,
   "metadata": {},
   "outputs": [],
   "source": [
    "mturk.associate_qualification_with_worker(WorkerId=\"...\", QualificationTypeId=\"...\")"
   ]
  },
  {
   "cell_type": "code",
   "execution_count": null,
   "metadata": {},
   "outputs": [],
   "source": [
    "mturk.disassociate_qualification_from_worker(WorkerId=\"...\", QualificationTypeId=\"...\")"
   ]
  },
  {
   "cell_type": "code",
   "execution_count": null,
   "metadata": {},
   "outputs": [],
   "source": [
    "\n",
    "def hits_df(hits):\n",
    "    cols = ['h_id', 't_id', 'status', 'review_status', 'reward', 'title', 'create_date', 'expire_date', \n",
    "             'duration_sec', 'auto_approve_sec',\n",
    "             'assign_available', 'assign_completed','assign_pending', 'MaxAssignments', \n",
    "             'id', 'hit_type', 'hit_group_id', 'Keywords', 'Description']\n",
    "    if not len(hits):\n",
    "        return pd.DataFrame(columns=cols)\n",
    "    \n",
    "    df = pd.DataFrame.from_records(hits)\n",
    "    df.drop(['QualificationRequirements', 'Question'], axis='columns', inplace=True)\n",
    "\n",
    "    df.rename(columns={\n",
    "        'HITId': 'id',\n",
    "        'HITTypeId': 'hit_type',\n",
    "        'HITGroupId': 'hit_group_id',\n",
    "        'HITStatus': 'status',\n",
    "        'HITReviewStatus': 'review_status',\n",
    "        'AssignmentDurationInSeconds':'duration_sec', \n",
    "        'AutoApprovalDelayInSeconds': 'auto_approve_sec', \n",
    "        'NumberOfAssignmentsAvailable': 'assign_available',\n",
    "        'NumberOfAssignmentsCompleted': 'assign_completed',\n",
    "        'NumberOfAssignmentsPending': 'assign_pending',\n",
    "        'CreationTime': 'create_date',\n",
    "        'Expiration': 'expire_date',\n",
    "        'Reward': 'reward',\n",
    "        'Title': 'title'}, inplace=True)\n",
    "\n",
    "    df['h_id'] = df.id.str.slice(-5)\n",
    "    df['t_id'] = df.hit_type.str.slice(-5)\n",
    "    df = df[['h_id', 't_id', 'status', 'review_status', 'reward', 'title', 'create_date', 'expire_date', \n",
    "             'duration_sec', 'auto_approve_sec',\n",
    "             'assign_available', 'assign_completed','assign_pending', 'MaxAssignments', \n",
    "             'id', 'hit_type', 'hit_group_id', 'Keywords', 'Description']]\n",
    "    return df\n",
    "\n"
   ]
  },
  {
   "cell_type": "code",
   "execution_count": null,
   "metadata": {},
   "outputs": [],
   "source": [
    "def refresh():\n",
    "    print_env()\n",
    "    hits = []\n",
    "    resp = mturk.list_hits(MaxResults=100)\n",
    "    \n",
    "    has_more = resp[\"NextToken\"]    \n",
    "    while resp[\"NumResults\"] > 0:\n",
    "        hits.extend(resp['HITs'])\n",
    "        next_tok = resp[\"NextToken\"]\n",
    "        print(\"Returned: \", resp[\"NumResults\"], \" results\")\n",
    "        print(\"Trying next token: \", next_tok)        \n",
    "        resp = mturk.list_hits(MaxResults=100, NextToken=next_tok)\n",
    "            \n",
    "    hits = hits_df(hits)\n",
    "    return hits"
   ]
  },
  {
   "cell_type": "code",
   "execution_count": null,
   "metadata": {},
   "outputs": [],
   "source": [
    "hits = refresh()\n"
   ]
  },
  {
   "cell_type": "code",
   "execution_count": null,
   "metadata": {},
   "outputs": [],
   "source": [
    "hits.status.value_counts()"
   ]
  },
  {
   "cell_type": "code",
   "execution_count": null,
   "metadata": {},
   "outputs": [],
   "source": [
    "hits.groupby([\"title\", \"hit_type\", 'status' ]).size().rename(\"hit_count\").reset_index().sort_values(\"hit_count\", ascending=False)"
   ]
  },
  {
   "cell_type": "markdown",
   "metadata": {},
   "source": [
    "### Expire and Delete HITs"
   ]
  },
  {
   "cell_type": "code",
   "execution_count": null,
   "metadata": {},
   "outputs": [],
   "source": [
    "GEN = \"...\""
   ]
  },
  {
   "cell_type": "code",
   "execution_count": null,
   "metadata": {
    "scrolled": false
   },
   "outputs": [],
   "source": [
    "hits[hits.hit_type == GEN][['id', 'review_status', 'assign_available', 'assign_completed', 'assign_pending', 'MaxAssignments']]"
   ]
  },
  {
   "cell_type": "code",
   "execution_count": null,
   "metadata": {},
   "outputs": [],
   "source": [
    "        \n",
    "def expire(hit_id):\n",
    "    distant_past = datetime(year=2000, month=1, day=1)    \n",
    "    resp = mturk.update_expiration_for_hit(HITId=hit_id, ExpireAt=distant_past)\n",
    "    check_response(resp)\n",
    "        \n",
    "def delete(hit_id):\n",
    "    resp = mturk.delete_hit(HITId=hit_id)\n",
    "    check_response(resp)"
   ]
  },
  {
   "cell_type": "code",
   "execution_count": null,
   "metadata": {},
   "outputs": [],
   "source": [
    "to_expire = hits[(hits.hit_type == GEN) &( hits.status != \"Unassignable\")].id\n",
    "for id_to_exp in to_expire:\n",
    "    print(id_to_exp)\n",
    "    expire(id_to_exp)\n",
    "    print(\"deleting...\")\n",
    "    delete(id_to_exp)\n"
   ]
  }
 ],
 "metadata": {
  "kernelspec": {
   "display_name": "Python 3",
   "language": "python",
   "name": "python3"
  },
  "language_info": {
   "codemirror_mode": {
    "name": "ipython",
    "version": 3
   },
   "file_extension": ".py",
   "mimetype": "text/x-python",
   "name": "python",
   "nbconvert_exporter": "python",
   "pygments_lexer": "ipython3",
   "version": "3.6.4"
  }
 },
 "nbformat": 4,
 "nbformat_minor": 2
}
